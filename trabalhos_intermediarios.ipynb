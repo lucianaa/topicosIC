{
 "cells": [
  {
   "cell_type": "markdown",
   "metadata": {},
   "source": [
    "# Disciplina: Tópicos em Inteligência Computacional\n",
    "Instituto Federal do Norte de Minas Gerais Campus Montes Claros <br/>\n",
    "Curso: Ciência da Computação <br/>\n",
    "Professora: Luciana Balieiro Cosme<br/>\n",
    "**Resultados dos trabalhos intermediários: análise estatística exploratória** <br/>"
   ]
  },
  {
   "cell_type": "markdown",
   "metadata": {},
   "source": [
    "Em geral, os alunos avaliaram variáveis de interesse na base de dados que contempla os resultados do ENADE. Entretanto, outros dados também foram avaliados e apresentados.\n",
    "\n",
    "**Equipes:**"
   ]
  },
  {
   "cell_type": "markdown",
   "metadata": {},
   "source": [
    "***\n",
    "***\n",
    "**Anne Almeida (@ETNINJA), Giovane (@GiovaneRichard) e Robert (@thetogmoc)**: examinaram o perfil do aluno no ensino médio e a escolha do tipo de instituição de ensino superior.\n",
    "\n",
    "https://github.com/thetogmoc/Top.-IC/blob/master/Trabalho%20Intermedi%C3%A1rio/enade.ipynb\n",
    "\n",
    "**Alguns resultados: **\n",
    "\n",
    "ENADE - 2017 ESCOLHA DO CURSO SUPERIOR PÚBLICO OU PRIVADO VINDO DO:\n",
    "\n",
    "..... ENSINO MÉDIO PÚBLICO .....\n",
    "\n",
    "Total pública =  340346\n",
    "\n",
    "(%) Ensino Superior público =  32.48\n",
    "\n",
    "(%) Superior privado =  67.04\n",
    "\n",
    "..... ENSINO MÉDIO PRIVADO .....\n",
    "\n",
    "Total privada =  125481\n",
    "\n",
    "(%) Ensino Superior público =  44.57\n",
    "\n",
    "(%) Superior privado =  55.26\n",
    "\n",
    "..... ENSINO MÉDIO EXTERIOR .....\n",
    "\n",
    "Total exterior    =  1448\n",
    "\n",
    "(%) Ensino Superior público  =  36.67\n",
    "\n",
    "(%) Ensino Superior privado  =  63.25\n",
    "\n",
    "*também foram feitas análises de anos anteriores.*\n",
    "\n"
   ]
  },
  {
   "cell_type": "markdown",
   "metadata": {},
   "source": [
    "***\n",
    "***\n",
    "**Camila (@camilalopes) e Giovani (@mgiovani)**: analisam o perfil de acadêmciso do Instituto\n",
    "Federal do Norte de Minas Gerais (IFNMG) - Campus Montes Claros  com relação\n",
    "ao interesse por jogos virtuais de forma geral, e com mais detalhes para aqueles que jogam\n",
    "LoL, fazendo um paralelo de números de partidas com o coeficiente de rendimento acadêmico (CR).\n",
    "\n",
    "https://github.com/mgiovani/topicosIC/blob/master/Em%20Grupo/Trabalho%20Intermedi%C3%A1rio/ExplorandoDados/AnaliseDados.ipynb\n",
    "\n",
    "**Alguns resultados:**\n",
    "\n",
    "Ao todo, foram respondidos 71 questionários, sendo destes, 74,6% afirmaram jogar algum tipo de jogo, e destes,\n",
    "41,5% jogam especificamente League of Legends (LoL). Os estudantes que jogam LoL possuem coeficiente de rendimento superior à média geral dos estudantes avaliados, e também daqueles estudantes que jogam outros tipos de jogos. Entretanto, de forma geral, os alunos que n˜ao jogam nenhum tipo de jogo, possuem melhor CR em relação à aqueles\n",
    "que jogam, independente do tipo de jogo.\n",
    "\n",
    "Eles também analisaram o CR com relação ao ano entrada. É possível perceber que a mediana entre 2014 a 2016 permanece semelhante. Já os dois últimos anos, a mediana diminui, possivelmente, devido a dificuldades que os discentes relatam ao cursar os primeiros semestres.\n",
    "\n",
    "<img src=\"indicecamilagiovani.png\"\n",
    "     alt=\"Indice\"\n",
    "     style=\"float: left; margin-right: 10px;\" />"
   ]
  },
  {
   "cell_type": "markdown",
   "metadata": {},
   "source": [
    "***\n",
    "***\n",
    "**Anne Caroline (@carolinepsantos) e Roberta Rasoviti (@rasoviti)**: avaliaram se os tipos de bolsas podem afetar o desempenho dos alunos da prova do ENADE.\n",
    "\n",
    "https://github.com/carolinepsantos/topicosIC/blob/e1cb29ac1eaddf2859cf9fbcee14c85522a09d7d/Enade/Trabalho%20Intermediario/TrabalhoIntermedario.ipynb\n",
    "\n",
    "**Alguns resultados:**\n",
    "\n",
    "\n",
    "Dados Estatísticos de 2017\n",
    "\n",
    "|Tipo Bolsa|     Nenhuma |  Permanência|   Acadêmica  |Ambas   |Geral|\n",
    "|--|     -- |  --|   --  |--   |--|\n",
    "|Quantidade|     316805|     13364|        86580|      26119|   442868|\n",
    "|Média|          42.00|      43.26|        48.70|      46.53   |43.62|\n",
    "|Desvio Padrão|  13.56|      13.49|        14.52|      14.34|   14.06|\n",
    "\n",
    "<img src=\"indiceanneeroberta.png\"\n",
    "     alt=\"Indice\"\n",
    "     style=\"float: left; margin-right: 10px;\" />\n"
   ]
  },
  {
   "cell_type": "markdown",
   "metadata": {},
   "source": [
    "***\n",
    "***\n",
    "**David Jansen(@DWalterJansen), Iarah Gonçalves de Almeida(@IarahAlmeida), Paulo Borges (@PauloABM)**: fizeram uma análise de dados sobre o Breast Cancer Wisconsin (Prognostic) Data Set.  Nessa base de dados, a ideia é prever se o indíviduo terá a recorrência do câncer. \n",
    "\n",
    "https://github.com/DWalterJansen/topicosIC/blob/master/Equipe/Trabalho%20Intermedi%C3%A1rio/trabalho_intermediario.ipynb\n",
    "\n",
    "**Alguns resultados:**\n",
    "\n",
    "Trabalhou-se com os valores médios para cada atributo do núcleo celular, e separou em dois grupos: amostras com recorrência e sem recorrência. Com a análise exploratória, foi possível perceber que a área do tumor pode ter impacto na recorrência do câncer.\n",
    "\n",
    "<img src=\"indicedavidiarahpaulo.png\"\n",
    "     alt=\"Indice\"\n",
    "     style=\"float: left; margin-right: 10px;\" />"
   ]
  },
  {
   "cell_type": "markdown",
   "metadata": {},
   "source": [
    "***\n",
    "***\n",
    "**Jaudir(@Jaudir) e Jonas (@Thouma)**: realizaram uma análise estatística de algumas variáveis de dados dos vestibulares e processo seletivos do IFNMG e de dados coletados no *campus* Montes Claros, sob a ótica de cor/raça.\n",
    "\n",
    "https://github.com/Jaudir/topicosic/blob/master/equipe/NAEBI/TPIC.ipynb\n",
    "\n",
    "**Alguns resultados:**\n",
    "\n",
    "Foi possível perceber, nos dados coletados no *campus*, dentre outras coisas, que no curso de Segurança do Trabalho há, proporcionalmente, mais pessoas que se auto-declara preta que os demais cursos. Além disso, a predominância dos que se auto-declaram pardos, na maioria dos cursos. E, ainda temos que há mais mulheres que se auto-declaram pretas, do que homens que se auto-declaram pretos.\n",
    "\n",
    "Com relação aos dados dos vestibulares e processo seletivos do IFNMG, que em todas cores/raças predominam a renda salarial entre 1 e 1,5 salários mínimos, exceto, nos casos daqueles que se auto-declaram brancos, pois nesses casos, há a predominância de renda superior a 1,5 salários mínimos. \n"
   ]
  },
  {
   "cell_type": "markdown",
   "metadata": {},
   "source": [
    "***\n",
    "***\n",
    "**Nayara(@nayaras) e Marianna(@mariannaleandra)**: analisam estatisticamente os dados dos filmes do IMDB com mais avalaiações, especialmente quanto ao gênero.\n",
    "\n",
    "https://github.com/mariannaleandra/topicosIC/blob/master/Trabalho%20Intermediario/imdb.ipynb\n",
    "\n",
    "**Alguns resultados:**\n",
    "Foram analisados 5419681 títulos e o gráfico abaixo mostra a proporção dos mais bem avaliados, de acordo com o gênero.\n",
    "\n",
    "<img src=\"indicenayaramarianna.png\"\n",
    "     alt=\"Indice\"\n",
    "     style=\"float: left; margin-right: 10px;\" />\n",
    "     \n",
    "<img src=\"indicenayaramarianna2.png\"\n",
    "     alt=\"Indice\"\n",
    "     style=\"float: left; margin-right: 10px;\" />"
   ]
  },
  {
   "cell_type": "markdown",
   "metadata": {},
   "source": [
    "***\n",
    "***\n",
    "**Breno(@BrenoPeixotobr), Daniel Antunes(@dnrocha) e Yoskoslowich (@yoskoslowich)**: analisaram os dados históricos de 2008, 2011, 2014 e 2017 do Enade, disponibilizadas pelo Inep, para obter a média geral no exame e a média no curso de Ciência da Computação agrupadas por região do Brasil em cada um destes anos. Esses anos foram escolhidos por serem os anos em que os acadêmicos de Ciência da Computação prestam o exame. \n",
    "\n",
    "**Alguns resultados:**\n",
    "\n",
    "<img src=\"brenodanielyoskos.png\"\n",
    "     alt=\"Indice\"\n",
    "     style=\"float: left; margin-right: 10px;\" />\n",
    "\n",
    "<img src=\"brenodanielyoskos2.png\"\n",
    "     alt=\"Indice\"\n",
    "     style=\"float: left; margin-right: 10px;\" />"
   ]
  },
  {
   "cell_type": "markdown",
   "metadata": {},
   "source": [
    "***\n",
    "***\n",
    "**Vinícius(@rviniciussouza) e Marcus(@elmarkola)**: analisou se os investimentos em educação realizados pelo governo federal podem ter influência sobre o resultado geral na nota do ENADE. Essa análise foi feita entre os anos de 2004 e 2017.\n",
    "\n",
    "**Alguns resultados:**\n",
    "\n",
    "Visualmente, tanto o investimento quanto as médias das notas aumentaram ao longo dos anos. Entretanto, como o resultado dos investimentos podem não ser percebido imediatamente, nos gráficos abaixo, é possível perceber apenas que há uma correlação.\n",
    "\n",
    "<img src=\"vincius.png\"\n",
    "     alt=\"Indice\"\n",
    "     style=\"float: left; margin-right: 10px;\" />\n",
    "     \n",
    "<img src=\"vinicius2.png\"\n",
    "     alt=\"Indice\"\n",
    "     style=\"float: left; margin-right: 10px;\" />\n",
    "\n"
   ]
  },
  {
   "cell_type": "markdown",
   "metadata": {},
   "source": [
    "***\n",
    "***\n",
    "**Mayara e Barbara**: avaliaram estatísticamente o desempenho dos estudantes de universidades públicas e privadas e as\n",
    "condições de trabalho e da renda familiar, com o objetivo de estabelecer levantar hipóteses que possam relacionar entre estes indicadores e a nota obtida na prova.\n",
    "\n",
    "https://github.com/BahFr/topicosIC/blob/master/enade.py\n",
    "\n",
    "**Alguns resultados:**\n",
    "\n",
    "Abaixo, temos uma figura que representa o gráfico boxplot da nota no ENADE de 2017 dos alunos que estudam em universidade pública. À esquerda, a nota dos alunos que trabalham 40 horas semanas e à direita aqueles que não trabalham.\n",
    "\n",
    "<img src=\"mayarabarbarapublicatrabalha.png\"/>\n",
    "\n",
    "\n",
    "Pode-se perceber que mediana da nota dos alunos que não trabalham é superior que aos que trabalham. A mesma situação ocorre quando se analise esse mesmo perfil para as instituições privadas.\n",
    "<br/>\n",
    "\n",
    "\n"
   ]
  },
  {
   "cell_type": "markdown",
   "metadata": {},
   "source": [
    "***\n",
    "***\n",
    "**Caio e Emerson**: investigaram a base de dados MSRAction3D, desenvolvida pela Microsoft, que foca em reconhecimento de atividade humana e modelagem e animações 3D. Os testes foram realizados com 10 indivíduos, mapeados por 20 pontos diferentes com 4 coordenadas, que realizam 20 ações diferentes, 3 vezes cada. O ciclo de um indivíduo realizando uma ação, uma vez, possui determinada quantidade de frames, cada um com 4 coordenadas (as 3 coordenadas espaciais e mais uma que representa a distância do indivíduo até o sensor) para cada um dos 20 pontos, e a este ciclo atribuímos o nome de ‘instância’.\n",
    "A análise estatistíca avalou a ação de número 1 desconsiderando duas das coordenadas (altura e distância até o sensor) e foram calculados dados estatísticos como média, variância e desvio padrão.\n",
    "\n",
    "https://github.com/emersonsrv/topicosIC/blob/master/trabalho%20intermediario/analiseMSRAction3D.ipynb\n",
    "\n",
    "**Alguns resultados:**\n",
    "\n",
    "A análise preliminar mostrou que os dados podem e precisam ser reduzidos, pois há frames muito semelhantes, do ponto de vista de média e desvio padrão. O trabalho final verificará a possibilidade de utilizar um método para classificar cada ação.\n",
    "\n"
   ]
  }
 ],
 "metadata": {
  "kernelspec": {
   "display_name": "Python 3",
   "language": "python",
   "name": "python3"
  },
  "language_info": {
   "codemirror_mode": {
    "name": "ipython",
    "version": 3
   },
   "file_extension": ".py",
   "mimetype": "text/x-python",
   "name": "python",
   "nbconvert_exporter": "python",
   "pygments_lexer": "ipython3",
   "version": "3.6.5"
  }
 },
 "nbformat": 4,
 "nbformat_minor": 2
}
