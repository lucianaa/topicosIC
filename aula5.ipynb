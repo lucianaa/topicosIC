{
 "cells": [
  {
   "cell_type": "markdown",
   "metadata": {},
   "source": [
    "# Disciplina: Tópicos em Inteligência Computacional\n",
    "Instituto Federal do Norte de Minas Gerais Campus Montes Claros <br/>\n",
    "Curso: Ciência da Computação <br/>\n",
    "Professora: Luciana Balieiro Cosme<br/>\n",
    "**Aula 5: Exploração de outras bases de dados** <br/>"
   ]
  },
  {
   "cell_type": "markdown",
   "metadata": {},
   "source": [
    "**ENADE 2017**\n",
    "\n",
    "Segundo matéria abaixo, os resultados do ENADE 2017 foram apresentados:\n",
    "\n",
    "\"Os resultados do Exame Nacional de Desempenho de Estudantes (Enade) de 2017 foram apresentados pelo Ministério da Educação e pelo Instituto Nacional de Estudos e Pesquisas Educacionais Anísio Teixeira (Inep), em9 de outubro, em Brasília (DF), juntamente com um perfil dos participantes da edição.\n",
    "\n",
    "...\n",
    "\n",
    "Além dos resultados nas provas, o Enade, por meio do Questionário do Estudante, permite traçar o perfil dos concluintes avaliados. A informação, combinada ao desempenho na prova, pode ajudar na definição de políticas públicas e também guiar melhorias das próprias instituições e cursos.\" \n",
    "\n",
    "http://portal.inep.gov.br/artigo/-/asset_publisher/B4AQV9zFY7Bv/content/mec-e-inep-divulgam-resultados-do-enade-2017-e-indicadores-de-qualidade-da-educacao-superior/21206\n",
    "\n",
    "**Para aprofundar a ánalise dos dados, os micradados do exame serão analisados nesta disciplina.** Podem ser baixados no link abaixo. Usaremos o ano de 2017.\n",
    "\n",
    "http://portal.inep.gov.br/web/guest/microdados\n"
   ]
  },
  {
   "cell_type": "code",
   "execution_count": 4,
   "metadata": {},
   "outputs": [
    {
     "data": {
      "text/plain": [
       "(537436, 150)"
      ]
     },
     "execution_count": 4,
     "metadata": {},
     "output_type": "execute_result"
    }
   ],
   "source": [
    "import pandas\n",
    "import matplotlib.pyplot as plt\n",
    "\n",
    "enade2017=pandas.read_csv(\"datasets\\MICRODADOS_ENADE_2017.txt\", sep=';',dtype={\"DS_VT_ESC_OFG\": str, \n",
    "                                                                               'DS_VT_ESC_OCE':str,\n",
    "                                                                              'DS_VT_ACE_OCE':str,\n",
    "                                                                              'NT_GER':str,\n",
    "                                                                              'NT_FG':str,\n",
    "                                                                              'NT_OBJ_FG':str,\n",
    "                                                                              'NT_DIS_FG':str,\n",
    "                                                                              'NT_CE':str,\n",
    "                                                                              'NT_OBJ_CE':str,\n",
    "                                                                              'NT_DIS_CE':str})\n",
    "\n",
    "\n",
    "enade2017.shape"
   ]
  },
  {
   "cell_type": "code",
   "execution_count": 3,
   "metadata": {},
   "outputs": [
    {
     "data": {
      "text/plain": [
       "Index(['NU_ANO', 'CO_IES', 'CO_CATEGAD', 'CO_ORGACAD', 'CO_GRUPO', 'CO_CURSO',\n",
       "       'CO_MODALIDADE', 'CO_MUNIC_CURSO', 'CO_UF_CURSO', 'CO_REGIAO_CURSO'],\n",
       "      dtype='object')"
      ]
     },
     "execution_count": 3,
     "metadata": {},
     "output_type": "execute_result"
    }
   ],
   "source": [
    "enade2017.columns[0:10]"
   ]
  },
  {
   "cell_type": "code",
   "execution_count": 63,
   "metadata": {},
   "outputs": [
    {
     "data": {
      "text/html": [
       "<div>\n",
       "<style scoped>\n",
       "    .dataframe tbody tr th:only-of-type {\n",
       "        vertical-align: middle;\n",
       "    }\n",
       "\n",
       "    .dataframe tbody tr th {\n",
       "        vertical-align: top;\n",
       "    }\n",
       "\n",
       "    .dataframe thead th {\n",
       "        text-align: right;\n",
       "    }\n",
       "</style>\n",
       "<table border=\"1\" class=\"dataframe\">\n",
       "  <thead>\n",
       "    <tr style=\"text-align: right;\">\n",
       "      <th></th>\n",
       "      <th>NT_GER</th>\n",
       "      <th>CO_GRUPO</th>\n",
       "      <th>QE_I08</th>\n",
       "      <th>CO_IES</th>\n",
       "      <th>QE_I05</th>\n",
       "    </tr>\n",
       "  </thead>\n",
       "  <tbody>\n",
       "    <tr>\n",
       "      <th>0</th>\n",
       "      <td>52,6</td>\n",
       "      <td>5710</td>\n",
       "      <td>B</td>\n",
       "      <td>1</td>\n",
       "      <td>F</td>\n",
       "    </tr>\n",
       "    <tr>\n",
       "      <th>1</th>\n",
       "      <td>63,1</td>\n",
       "      <td>5710</td>\n",
       "      <td>B</td>\n",
       "      <td>1</td>\n",
       "      <td>D</td>\n",
       "    </tr>\n",
       "    <tr>\n",
       "      <th>2</th>\n",
       "      <td>33,7</td>\n",
       "      <td>5710</td>\n",
       "      <td>F</td>\n",
       "      <td>1</td>\n",
       "      <td>F</td>\n",
       "    </tr>\n",
       "    <tr>\n",
       "      <th>3</th>\n",
       "      <td>58,1</td>\n",
       "      <td>5710</td>\n",
       "      <td>B</td>\n",
       "      <td>1</td>\n",
       "      <td>D</td>\n",
       "    </tr>\n",
       "    <tr>\n",
       "      <th>4</th>\n",
       "      <td>46,3</td>\n",
       "      <td>5710</td>\n",
       "      <td>F</td>\n",
       "      <td>1</td>\n",
       "      <td>F</td>\n",
       "    </tr>\n",
       "    <tr>\n",
       "      <th>5</th>\n",
       "      <td>64,2</td>\n",
       "      <td>5710</td>\n",
       "      <td>C</td>\n",
       "      <td>1</td>\n",
       "      <td>B</td>\n",
       "    </tr>\n",
       "    <tr>\n",
       "      <th>6</th>\n",
       "      <td>41,4</td>\n",
       "      <td>5710</td>\n",
       "      <td>C</td>\n",
       "      <td>1</td>\n",
       "      <td>D</td>\n",
       "    </tr>\n",
       "    <tr>\n",
       "      <th>7</th>\n",
       "      <td>48,8</td>\n",
       "      <td>5710</td>\n",
       "      <td>C</td>\n",
       "      <td>1</td>\n",
       "      <td>E</td>\n",
       "    </tr>\n",
       "    <tr>\n",
       "      <th>8</th>\n",
       "      <td>52,9</td>\n",
       "      <td>5710</td>\n",
       "      <td>E</td>\n",
       "      <td>1</td>\n",
       "      <td>F</td>\n",
       "    </tr>\n",
       "    <tr>\n",
       "      <th>9</th>\n",
       "      <td>62,7</td>\n",
       "      <td>5710</td>\n",
       "      <td>C</td>\n",
       "      <td>1</td>\n",
       "      <td>D</td>\n",
       "    </tr>\n",
       "  </tbody>\n",
       "</table>\n",
       "</div>"
      ],
      "text/plain": [
       "  NT_GER  CO_GRUPO QE_I08  CO_IES QE_I05\n",
       "0   52,6      5710      B       1      F\n",
       "1   63,1      5710      B       1      D\n",
       "2   33,7      5710      F       1      F\n",
       "3   58,1      5710      B       1      D\n",
       "4   46,3      5710      F       1      F\n",
       "5   64,2      5710      C       1      B\n",
       "6   41,4      5710      C       1      D\n",
       "7   48,8      5710      C       1      E\n",
       "8   52,9      5710      E       1      F\n",
       "9   62,7      5710      C       1      D"
      ]
     },
     "execution_count": 63,
     "metadata": {},
     "output_type": "execute_result"
    }
   ],
   "source": [
    "'''\n",
    "nota geral: 0-98 \n",
    "questão08: Qual a renda total de sua família, incluindo seus rendimentos?\n",
    "A = Até 1,5 salário mínimo (até R$ 1.405,50).\n",
    "B = De 1,5 a 3 salários mínimos (R$ 1.405,51 a R$ 2.811,00).\n",
    "C = De 3 a 4,5 salários mínimos (R$ 2.811,01 a R$ 4.216,50).\n",
    "D = De 4,5 a 6 salários mínimos (R$ 4.216,51 a R$ 5.622,00).\n",
    "E = De 6 a 10 salários mínimos (R$ 5. 622,01 a R$ 9.370,00).\n",
    "F = De 10 a 30 salários mínimos (R$ 9.370,01 a R$ 28.110,00).\n",
    "G = Acima de 30 salários mínimos (mais de R$ 28.110,00).\n",
    "\n",
    "i05 escolaridade da mae\n",
    "A = Nenhuma.\n",
    "B = Ensino fundamental: 1º ao 5º ano (1ª a 4ª série).\n",
    "C = Ensino fundamental: 6º ao 9º ano (5ª a 8ª série).\n",
    "D = Ensino médio.\n",
    "E = Ensino Superior - Graduação.\n",
    "F = Pós-graduação.\n",
    "\n",
    "'''\n",
    "\n",
    "tabela = pandas.DataFrame(enade2017, columns=['NT_GER', 'CO_GRUPO', 'QE_I08', 'CO_IES', 'QE_I05'])\n",
    "tabela.head(10)"
   ]
  },
  {
   "cell_type": "code",
   "execution_count": 64,
   "metadata": {},
   "outputs": [
    {
     "name": "stdout",
     "output_type": "stream",
     "text": [
      "0         52.6\n",
      "1         63.1\n",
      "2         33.7\n",
      "3         58.1\n",
      "4         46.3\n",
      "5         64.2\n",
      "6         41.4\n",
      "7         48.8\n",
      "8         52.9\n",
      "9         62.7\n",
      "10        51.9\n",
      "11        58.4\n",
      "12        77.7\n",
      "13        37.5\n",
      "14        66.4\n",
      "15        71.5\n",
      "16        57.8\n",
      "17        62.7\n",
      "18        75.1\n",
      "19        50.5\n",
      "20        46.1\n",
      "21        44.1\n",
      "22        47.9\n",
      "23        55.1\n",
      "24        73.5\n",
      "25        60.4\n",
      "26        62.7\n",
      "27        49.5\n",
      "28        44.9\n",
      "29        27.7\n",
      "          ... \n",
      "537406     NaN\n",
      "537407     NaN\n",
      "537408     NaN\n",
      "537409     NaN\n",
      "537410     NaN\n",
      "537411     NaN\n",
      "537412     NaN\n",
      "537413     NaN\n",
      "537414     NaN\n",
      "537415     NaN\n",
      "537416     NaN\n",
      "537417     NaN\n",
      "537418     NaN\n",
      "537419     NaN\n",
      "537420     NaN\n",
      "537421     NaN\n",
      "537422     NaN\n",
      "537423     NaN\n",
      "537424     NaN\n",
      "537425     NaN\n",
      "537426     NaN\n",
      "537427     NaN\n",
      "537428     NaN\n",
      "537429     NaN\n",
      "537430     NaN\n",
      "537431     NaN\n",
      "537432     NaN\n",
      "537433     NaN\n",
      "537434     NaN\n",
      "537435     NaN\n",
      "Name: NT_GER, Length: 537436, dtype: object\n"
     ]
    }
   ],
   "source": [
    "##limpeza dos dados\n",
    "\n",
    "#substitui vírgula por ponto\n",
    "tabela['NT_GER'] = tabela['NT_GER'].str.replace(',', '.')\n",
    "print (tabela['NT_GER'])\n",
    "\n",
    "#observe os NaN (not a number)"
   ]
  },
  {
   "cell_type": "code",
   "execution_count": 65,
   "metadata": {},
   "outputs": [
    {
     "name": "stdout",
     "output_type": "stream",
     "text": [
      "0         52.6\n",
      "1         63.1\n",
      "2         33.7\n",
      "3         58.1\n",
      "4         46.3\n",
      "5         64.2\n",
      "6         41.4\n",
      "7         48.8\n",
      "8         52.9\n",
      "9         62.7\n",
      "10        51.9\n",
      "11        58.4\n",
      "12        77.7\n",
      "13        37.5\n",
      "14        66.4\n",
      "15        71.5\n",
      "16        57.8\n",
      "17        62.7\n",
      "18        75.1\n",
      "19        50.5\n",
      "20        46.1\n",
      "21        44.1\n",
      "22        47.9\n",
      "23        55.1\n",
      "24        73.5\n",
      "25        60.4\n",
      "26        62.7\n",
      "27        49.5\n",
      "28        44.9\n",
      "29        27.7\n",
      "          ... \n",
      "534887    43.8\n",
      "534888    46.9\n",
      "534890    48.2\n",
      "534891    49.6\n",
      "534892    63.2\n",
      "534893    31.9\n",
      "534895    71.5\n",
      "534896    59.6\n",
      "534897    15.1\n",
      "534898    44.7\n",
      "534900    30.8\n",
      "534901    16.3\n",
      "534902    66.3\n",
      "534903    34.9\n",
      "534904    71.9\n",
      "534905    56.0\n",
      "534906    45.9\n",
      "534907    43.3\n",
      "534908    68.4\n",
      "534909    39.3\n",
      "534910    69.6\n",
      "534911    53.8\n",
      "534912    15.2\n",
      "534913    59.8\n",
      "534914    42.7\n",
      "534915    35.6\n",
      "534916    66.1\n",
      "534917    70.2\n",
      "534918    51.9\n",
      "534919    52.8\n",
      "Name: NT_GER, Length: 449932, dtype: float64\n",
      "43.52396851079471\n"
     ]
    }
   ],
   "source": [
    "'''No arquivo 'Dicionário de variáveis dos Microdados do Enade_Edição 2017' descreve que:\n",
    "o codigo 222 no campo TP_PR_GER significa ausente \n",
    "556 e 888 são participações desconsideradas.\n",
    "Portanto, algumas notas podem ser desconsideradas dependendo do seu objetivo, \n",
    "e aqui, será de calcular a média daqueles que fizeram a prova.\n",
    "'''\n",
    "tabela=tabela.loc[(tabela['NT_GER'].notnull())]\n",
    "#print(tabela['NT_GER'])\n",
    "#converte de str para float\n",
    "tabela['NT_GER'] = pandas.to_numeric(tabela['NT_GER'])\n",
    "print(tabela['NT_GER'])\n",
    "print(tabela['NT_GER'].mean())\n"
   ]
  },
  {
   "cell_type": "code",
   "execution_count": 66,
   "metadata": {},
   "outputs": [
    {
     "data": {
      "text/plain": [
       "count    449932.000000\n",
       "mean         43.523969\n",
       "std          14.080110\n",
       "min           0.000000\n",
       "25%          33.400000\n",
       "50%          42.900000\n",
       "75%          53.100000\n",
       "max          98.100000\n",
       "Name: NT_GER, dtype: float64"
      ]
     },
     "execution_count": 66,
     "metadata": {},
     "output_type": "execute_result"
    }
   ],
   "source": [
    "tabela['NT_GER'].describe()"
   ]
  },
  {
   "cell_type": "code",
   "execution_count": 67,
   "metadata": {},
   "outputs": [
    {
     "name": "stdout",
     "output_type": "stream",
     "text": [
      "indice da primeira maior nota:  72257\n",
      "Maior nota:  98.1\n"
     ]
    }
   ],
   "source": [
    "#outros comandos\n",
    "print('indice da primeira maior nota: ', tabela['NT_GER'].idxmax())\n",
    "print('Maior nota: ', tabela['NT_GER'][72257])\n",
    "#print(tabela['NT_GER'].idxmax())"
   ]
  },
  {
   "cell_type": "code",
   "execution_count": 68,
   "metadata": {},
   "outputs": [
    {
     "name": "stdout",
     "output_type": "stream",
     "text": [
      "        NT_GER  CO_GRUPO QE_I08  CO_IES QE_I05\n",
      "383       58.7      4004      E       1      F\n",
      "384       49.8      4004      C       1      C\n",
      "386       40.1      4004      C       1      D\n",
      "387       53.2      4004      B       1      B\n",
      "388       52.4      4004      B       1      F\n",
      "389       22.4      4004      F       1      D\n",
      "390       53.3      4004      E       1      D\n",
      "391       44.4      4004      B       1      D\n",
      "392       66.0      4004      D       1      C\n",
      "393       36.5      4004      B       1      E\n",
      "394       32.1      4004      D       1      E\n",
      "395       23.0      4004      E       1      F\n",
      "396       55.8      4004      F       1      F\n",
      "397       35.5      4004      D       1      B\n",
      "398       39.5      4004      B       1      D\n",
      "399       68.3      4004      D       1      D\n",
      "400       46.5      4004      C       1      D\n",
      "401       39.1      4004      F       1      E\n",
      "402       25.4      4004      B       1      C\n",
      "403       36.0      4004      C       1      F\n",
      "404       54.9      4004      B       1      D\n",
      "405       61.9      4004      E       1      C\n",
      "450       43.3      4004      F       2      F\n",
      "451       50.6      4004    NaN       2    NaN\n",
      "452       62.8      4004      F       2      F\n",
      "453       42.7      4004      E       2      D\n",
      "454       51.5      4004    NaN       2    NaN\n",
      "455       79.9      4004      F       2      F\n",
      "457       73.9      4004      E       2      F\n",
      "458       51.8      4004      D       2      C\n",
      "...        ...       ...    ...     ...    ...\n",
      "534350    36.6      4004      D    2911      E\n",
      "534351    43.2      4004      B    2911      B\n",
      "534352    35.9      4004      B    2911      F\n",
      "534353    35.2      4004      A    2911      D\n",
      "534354    32.1      4004      A    2911      D\n",
      "534355    40.6      4004      A    2911      C\n",
      "534356    38.9      4004      C    2911      C\n",
      "534358    35.3      4004      A    2911      E\n",
      "534359    36.0      4004      B    2911      E\n",
      "534360    39.8      4004      A    2911      D\n",
      "534361    35.4      4004      A    2911      D\n",
      "534362    32.4      4004      A    2911      D\n",
      "534363    33.2      4004      A    2911      D\n",
      "534364    30.7      4004      B    2911      D\n",
      "534365    16.2      4004      A    2911      C\n",
      "534367    30.1      4004      A    2911      D\n",
      "534368    35.1      4004      A    2911      D\n",
      "534369    26.0      4004      B    2911      D\n",
      "534370    27.7      4004      A    2911      C\n",
      "534371    44.2      4004      E    2911      F\n",
      "534372    33.7      4004      A    2911      D\n",
      "534373    19.6      4004      A    2911      D\n",
      "534374    34.6      4004      A    2911      C\n",
      "534375    27.4      4004      A    2911      D\n",
      "534376    18.1      4004      B    2911      E\n",
      "534377    35.7      4004      B    2911      C\n",
      "534378    33.3      4004      B    2911      D\n",
      "534380    26.6      4004      A    2911      D\n",
      "534381    28.7      4004      B    2911      C\n",
      "534382    32.5      4004      B    2911      D\n",
      "\n",
      "[8489 rows x 5 columns]\n"
     ]
    }
   ],
   "source": [
    "#Calcula a média de um curso especifico\n",
    "#Código da área de enquadramento do curso no Enade == ciencia da computacao\n",
    "\n",
    "ccomp = tabela[tabela['CO_GRUPO']==4004]\n",
    "\n",
    "print(ccomp)"
   ]
  },
  {
   "cell_type": "code",
   "execution_count": 69,
   "metadata": {},
   "outputs": [
    {
     "data": {
      "text/plain": [
       "count    8489.000000\n",
       "mean       43.262775\n",
       "std        13.633212\n",
       "min         0.000000\n",
       "25%        33.700000\n",
       "50%        42.300000\n",
       "75%        52.400000\n",
       "max        95.100000\n",
       "Name: NT_GER, dtype: float64"
      ]
     },
     "execution_count": 69,
     "metadata": {},
     "output_type": "execute_result"
    }
   ],
   "source": [
    "ccomp['NT_GER'].describe()"
   ]
  },
  {
   "cell_type": "code",
   "execution_count": 70,
   "metadata": {},
   "outputs": [
    {
     "data": {
      "text/html": [
       "<div>\n",
       "<style scoped>\n",
       "    .dataframe tbody tr th:only-of-type {\n",
       "        vertical-align: middle;\n",
       "    }\n",
       "\n",
       "    .dataframe tbody tr th {\n",
       "        vertical-align: top;\n",
       "    }\n",
       "\n",
       "    .dataframe thead th {\n",
       "        text-align: right;\n",
       "    }\n",
       "</style>\n",
       "<table border=\"1\" class=\"dataframe\">\n",
       "  <thead>\n",
       "    <tr style=\"text-align: right;\">\n",
       "      <th></th>\n",
       "      <th>NT_GER</th>\n",
       "      <th>CO_GRUPO</th>\n",
       "      <th>CO_IES</th>\n",
       "    </tr>\n",
       "  </thead>\n",
       "  <tbody>\n",
       "    <tr>\n",
       "      <th>count</th>\n",
       "      <td>6.000000</td>\n",
       "      <td>6.0</td>\n",
       "      <td>6.0</td>\n",
       "    </tr>\n",
       "    <tr>\n",
       "      <th>mean</th>\n",
       "      <td>52.883333</td>\n",
       "      <td>4004.0</td>\n",
       "      <td>3188.0</td>\n",
       "    </tr>\n",
       "    <tr>\n",
       "      <th>std</th>\n",
       "      <td>8.564442</td>\n",
       "      <td>0.0</td>\n",
       "      <td>0.0</td>\n",
       "    </tr>\n",
       "    <tr>\n",
       "      <th>min</th>\n",
       "      <td>40.300000</td>\n",
       "      <td>4004.0</td>\n",
       "      <td>3188.0</td>\n",
       "    </tr>\n",
       "    <tr>\n",
       "      <th>25%</th>\n",
       "      <td>48.325000</td>\n",
       "      <td>4004.0</td>\n",
       "      <td>3188.0</td>\n",
       "    </tr>\n",
       "    <tr>\n",
       "      <th>50%</th>\n",
       "      <td>53.450000</td>\n",
       "      <td>4004.0</td>\n",
       "      <td>3188.0</td>\n",
       "    </tr>\n",
       "    <tr>\n",
       "      <th>75%</th>\n",
       "      <td>58.875000</td>\n",
       "      <td>4004.0</td>\n",
       "      <td>3188.0</td>\n",
       "    </tr>\n",
       "    <tr>\n",
       "      <th>max</th>\n",
       "      <td>62.800000</td>\n",
       "      <td>4004.0</td>\n",
       "      <td>3188.0</td>\n",
       "    </tr>\n",
       "  </tbody>\n",
       "</table>\n",
       "</div>"
      ],
      "text/plain": [
       "          NT_GER  CO_GRUPO  CO_IES\n",
       "count   6.000000       6.0     6.0\n",
       "mean   52.883333    4004.0  3188.0\n",
       "std     8.564442       0.0     0.0\n",
       "min    40.300000    4004.0  3188.0\n",
       "25%    48.325000    4004.0  3188.0\n",
       "50%    53.450000    4004.0  3188.0\n",
       "75%    58.875000    4004.0  3188.0\n",
       "max    62.800000    4004.0  3188.0"
      ]
     },
     "execution_count": 70,
     "metadata": {},
     "output_type": "execute_result"
    }
   ],
   "source": [
    "#do curso do IFNMG\n",
    "ifccomp = ccomp[ccomp['CO_IES']==3188]\n",
    "ifccomp.describe()"
   ]
  },
  {
   "cell_type": "code",
   "execution_count": 71,
   "metadata": {},
   "outputs": [
    {
     "data": {
      "text/plain": [
       "count    8408.000000\n",
       "mean       43.324619\n",
       "std        13.626419\n",
       "min         0.000000\n",
       "25%        33.800000\n",
       "50%        42.300000\n",
       "75%        52.500000\n",
       "max        95.100000\n",
       "Name: NT_GER, dtype: float64"
      ]
     },
     "execution_count": 71,
     "metadata": {},
     "output_type": "execute_result"
    }
   ],
   "source": [
    "#somente as notas de quem respondeu a questão sobre a renda\n",
    "ccomp=ccomp.loc[(ccomp['QE_I08'].notnull())]\n",
    "ccomp.NT_GER.describe()"
   ]
  },
  {
   "cell_type": "code",
   "execution_count": 72,
   "metadata": {},
   "outputs": [
    {
     "data": {
      "text/plain": [
       "count    8408.000000\n",
       "mean       43.324619\n",
       "std        13.626419\n",
       "min         0.000000\n",
       "25%        33.800000\n",
       "50%        42.300000\n",
       "75%        52.500000\n",
       "max        95.100000\n",
       "Name: NT_GER, dtype: float64"
      ]
     },
     "execution_count": 72,
     "metadata": {},
     "output_type": "execute_result"
    }
   ],
   "source": [
    "ccomp=ccomp.loc[(ccomp['QE_I05'].notnull())]\n",
    "ccomp.NT_GER.describe()"
   ]
  },
  {
   "cell_type": "code",
   "execution_count": 74,
   "metadata": {},
   "outputs": [
    {
     "data": {
      "text/plain": [
       "383    5\n",
       "384    3\n",
       "386    3\n",
       "387    2\n",
       "388    2\n",
       "389    6\n",
       "390    5\n",
       "391    2\n",
       "392    4\n",
       "393    2\n",
       "Name: QE_I08, dtype: int64"
      ]
     },
     "execution_count": 74,
     "metadata": {},
     "output_type": "execute_result"
    }
   ],
   "source": [
    "ccomp.QE_I08.head(10)\n",
    "\n",
    "ccomp['QE_I08'] = ccomp['QE_I08'].map({'A': 1, 'B': 2, 'C': 3, 'D': 4,'E': 5, 'F':6,'G':7})\n",
    "\n",
    "ccomp.QE_I08.head(10)"
   ]
  },
  {
   "cell_type": "code",
   "execution_count": 78,
   "metadata": {},
   "outputs": [
    {
     "data": {
      "image/png": "[encoded data removed]",
      "text/plain": [
       "<Figure size 432x288 with 1 Axes>"
      ]
     },
     "metadata": {},
     "output_type": "display_data"
    }
   ],
   "source": [
    "import matplotlib.pyplot as plt\n",
    "#visualmente\n",
    "plt.scatter( ccomp.NT_GER, ccomp.QE_I08)\n",
    "plt.ylabel('Faixa de renda')\n",
    "plt.xlabel('Nota do curso de C. da Comp.')\n",
    "plt.show()"
   ]
  },
  {
   "cell_type": "code",
   "execution_count": 79,
   "metadata": {},
   "outputs": [
    {
     "data": {
      "text/plain": [
       "383    6\n",
       "384    3\n",
       "386    4\n",
       "387    2\n",
       "388    6\n",
       "389    4\n",
       "390    4\n",
       "391    4\n",
       "392    3\n",
       "393    5\n",
       "Name: QE_I05, dtype: int64"
      ]
     },
     "execution_count": 79,
     "metadata": {},
     "output_type": "execute_result"
    }
   ],
   "source": [
    "ccomp.QE_I05 = ccomp['QE_I05'].map({'A': 1, 'B': 2, 'C': 3, 'D': 4,'E': 5, 'F':6})\n",
    "\n",
    "ccomp.QE_I05.head(10)"
   ]
  },
  {
   "cell_type": "code",
   "execution_count": 87,
   "metadata": {},
   "outputs": [
    {
     "data": {
      "image/png": "[encoded data removed]",
      "text/plain": [
       "<Figure size 432x288 with 1 Axes>"
      ]
     },
     "metadata": {},
     "output_type": "display_data"
    }
   ],
   "source": [
    "#visualmente\n",
    "plt.scatter( ccomp.NT_GER, ccomp.QE_I05)\n",
    "plt.ylabel('Escolaridade da mãe')\n",
    "plt.xlabel('Nota do curso de C. da Comp.')\n",
    "plt.show()\n"
   ]
  },
  {
   "cell_type": "code",
   "execution_count": 98,
   "metadata": {},
   "outputs": [
    {
     "data": {
      "text/plain": [
       "count    112.000000\n",
       "mean      38.037500\n",
       "std       12.315676\n",
       "min       10.700000\n",
       "25%       30.725000\n",
       "50%       36.000000\n",
       "75%       46.600000\n",
       "max       66.300000\n",
       "Name: NT_GER, dtype: float64"
      ]
     },
     "execution_count": 98,
     "metadata": {},
     "output_type": "execute_result"
    }
   ],
   "source": [
    "escolaridade = ccomp.loc[ccomp.QE_I05 ==1]\n",
    "escolaridade.NT_GER.describe()"
   ]
  },
  {
   "cell_type": "markdown",
   "metadata": {},
   "source": [
    "**Links utilizados:**\n",
    "\n",
    "http://portal.inep.gov.br/artigo/-/asset_publisher/B4AQV9zFY7Bv/content/mec-e-inep-divulgam-resultados-do-enade-2017-e-indicadores-de-qualidade-da-educacao-superior/21206\n",
    "\n",
    "http://portal.inep.gov.br/web/guest/microdados\n",
    "\n",
    "https://paulovasconcellos.com.br/28-comandos-%C3%BAteis-de-pandas-que-talvez-voc%C3%AA-n%C3%A3o-conhe%C3%A7a-6ab64beefa93"
   ]
  }
 ],
 "metadata": {
  "kernelspec": {
   "display_name": "Python 3",
   "language": "python",
   "name": "python3"
  }
 },
 "nbformat": 4,
 "nbformat_minor": 2
}
